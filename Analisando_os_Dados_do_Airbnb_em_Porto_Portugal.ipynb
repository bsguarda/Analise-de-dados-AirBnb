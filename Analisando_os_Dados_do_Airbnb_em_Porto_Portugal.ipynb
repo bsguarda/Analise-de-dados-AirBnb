{
  "nbformat": 4,
  "nbformat_minor": 0,
  "metadata": {
    "colab": {
      "provenance": [],
      "include_colab_link": true
    },
    "kernelspec": {
      "name": "python3",
      "display_name": "Python 3"
    }
  },
  "cells": [
    {
      "cell_type": "markdown",
      "metadata": {
        "id": "view-in-github",
        "colab_type": "text"
      },
      "source": [
        "<a href=\"https://colab.research.google.com/github/bsguarda/Analise-de-dados-AirBnb/blob/main/Analisando_os_Dados_do_Airbnb_em_Porto_Portugal.ipynb\" target=\"_parent\"><img src=\"https://colab.research.google.com/assets/colab-badge.svg\" alt=\"Open In Colab\"/></a>"
      ]
    },
    {
      "cell_type": "markdown",
      "metadata": {
        "id": "kLI0gJtzDGuQ"
      },
      "source": [
        "### **Data Science**\n",
        "*by Bruno Guarda*   \n",
        "[<img alt=\"Colaboratory logo\" width=\"10%\" src=\"https://img.shields.io/badge/LinkedIn-0077B5?style=for-the-badge&logo=linkedin&logoColor=white\">](https://linkedin.com/in/bruno-guarda)\n",
        "[<img alt=\"Colaboratory logo\" width=\"10%\" src=\"https://img.shields.io/badge/Medium-12100E?style=for-the-badge&logo=medium&logoColor=white\">](https://medium.com/@bsguarda)\n",
        "[<img alt=\"Colaboratory logo\" width=\"10%\" src=\"https://img.shields.io/badge/GitHub-100000?style=for-the-badge&logo=github&logoColor=white\">](\n",
        "https://github.com/bsguarda)\n",
        "\n",
        "___\n",
        "\n",
        "# Análise dos Dados do Airbnb - Porto em Portugal\n",
        "\n",
        "O [Airbnb](https://www.airbnb.com.br/) permite aos indivíduos alugar o todo ou parte de sua própria casa, como uma forma de acomodação extra. O site fornece uma plataforma de busca e reservas entre a pessoa que oferece a acomodação e o turista que busca pela locação.\n",
        "\n",
        "O Airbnb nasceu em 2007, quando dois anfitriões receberam três hóspedes em sua casa em São Francisco. Hoje, a plataforma conta com 4 milhões de anfitriões que já receberam mais de 1 bilhão de hóspedes em quase todos os países do mundo. Todos os dias, os anfitriões oferecem acomodações e atividades únicas, que possibilitam aos viajantes vivenciar o mundo de uma forma mais autêntica e conectada.\n",
        "\n",
        "Uma das iniciativas do Airbnb é disponibilizar dados do site, para algumas das principais cidades do mundo. Por meio do portal [Inside Airbnb](http://insideairbnb.com/get-the-data.html), é possível baixar uma grande quantidade de dados para desenvolver projetos e soluções de *Data Science*.\n",
        "\n",
        "<center><img alt=\"Analisando Airbnb\" width=\"10%\" src=\"https://www.area360.com.au/wp-content/uploads/2017/09/airbnb-logo.jpg\"></center>\n",
        "\n",
        "**Neste *notebook*, usaremos como referência a cidade de Porto em Portugal, iremos analisar os dados e ver quais insights podem ser extraídos a partir de dados brutos.**"
      ]
    },
    {
      "cell_type": "markdown",
      "source": [
        "##Uma visão geral da cidade do Porto\n",
        "\n",
        "\n",
        "Porto é uma cidade costeira no noroeste de Portugal sendo a segunda maior cidade do país conhecida pelas pontes imponentes e pela produção de vinho do Porto. No distrito medieval de Ribeira, às margens do rio, ruas estreitas de paralelepípedos passam pelas casas e pelos restaurantes dos comerciantes. A Igreja de São Francisco é conhecida pelo interior barroco exuberante com esculturas douradas ornamentadas. O suntuoso Palácio da Bolsa, do século XIX, era um mercado de ações e foi construído para impressionar investidores europeus em potencial.\n",
        "\n",
        "\n",
        "<img alt=\"Colaboratory logo\" width=\"75%\" src=\"https://i0.wp.com/www.eurodicas.com.br/wp-content/uploads/2019/10/melhores-bairros-do-porto.jpg?fit=750%2C500&ssl=1\">\n"
      ],
      "metadata": {
        "id": "oDH9t7PgUaR7"
      }
    },
    {
      "cell_type": "markdown",
      "source": [
        "##Importando as bibliotecas necessárias para fazer a análise dos dados.\n",
        "Pandas\n",
        "\n",
        "Matplotlib\n",
        "\n",
        "Seaborn"
      ],
      "metadata": {
        "id": "Jm9Zc1yyW4F9"
      }
    },
    {
      "cell_type": "code",
      "metadata": {
        "id": "Vhp2wMPgJ6zX"
      },
      "source": [
        "import pandas as pd\n",
        "import matplotlib.pyplot as plt\n",
        "import seaborn as sns\n",
        "\n",
        "%matplotlib inline"
      ],
      "execution_count": 1,
      "outputs": []
    },
    {
      "cell_type": "markdown",
      "source": [
        "## Obtenção dos Dados\n",
        "Todos os dados desse dataset estão disponíveis no portal da [Inside Airbnb](http://insideairbnb.com/get-the-date.html).\n",
        "\n",
        "Será usado o seguinte arquivo:  listings.csv\n"
      ],
      "metadata": {
        "id": "H4KCP3qKWpSl"
      }
    },
    {
      "cell_type": "code",
      "metadata": {
        "id": "tUmoAT8DLQ5T"
      },
      "source": [
        "# importando o dataset listings.csv para um DataFrame\n",
        "\n",
        "df = pd.read_csv('https://raw.githubusercontent.com/bsguarda/Analise-de-dados-AirBnb/dd173e937c1d9c45aad85f61e7d277149607b6f0/Dados_AirBnb_Porto_Portugal.csv')\n"
      ],
      "execution_count": 2,
      "outputs": []
    },
    {
      "cell_type": "markdown",
      "metadata": {
        "id": "qb5By2nIMS6m"
      },
      "source": [
        "## Análise dos Dados\n",
        "O intuito dessa fase do projeto é mostrar no que consiste esse dataset com o propósito de elencar seu entendimento."
      ]
    },
    {
      "cell_type": "markdown",
      "metadata": {
        "id": "RYgvuebKNg8-"
      },
      "source": [
        "**Dicionário das variáveis**\n",
        "\n",
        "\n",
        "* `id` - número de id gerado para identificar o imóvel\n",
        "* `name` - nome da propriedade anunciada\n",
        "* `host_id` - número de id do proprietário (anfitrião) da propriedade\n",
        "* `host_name` - Nome do anfitrião\n",
        "* `neighbourhood_group` - grupo de bairros a qual o bairro está inserido\n",
        "* `neighbourhood` - nome do bairro\n",
        "* `latitude` - coordenada da latitude da propriedade\n",
        "* `longitude` - coordenada da longitude da propriedade\n",
        "* `room_type` - informa o tipo de quarto que é oferecido\n",
        "* `price` - preço para alugar o imóvel\n",
        "* `minimum_nights` - quantidade mínima de noites para reservar\n",
        "* `number_of_reviews` - número de reviews que a propriedade possui\n",
        "* `last_review` - data do último review\n",
        "* `reviews_per_month` - quantidade de reviews por mês\n",
        "* `calculated_host_listings_count` - quantidade de imóveis do mesmo anfitrião\n",
        "* `availability_365` - número de dias de disponibilidade dentro de 365 dias\n",
        "* `number_of_reviews_ltm` - número de reviews nos ultimos 12 meses\n",
        "*\t`license` - identificação da licença \n"
      ]
    },
    {
      "cell_type": "markdown",
      "source": [
        "Antes de fazermos a análise exploratória dos dados temos que entender o problema e traçar o caminho ser seguido para que possamos trazer conclusões acerca do negócio.\n",
        "\n",
        "Iremos trabalha com os seguintes questionamentos:\n",
        "\n",
        "* *`Q1. Quantos Atributos (Variáveis) e quantas entradas o nosso conjunto de dados possui? Quais tipos de variáveis?`*\n",
        "* *`Q2. Qual a porcentagem de valores ausentes no dataset?`*\n",
        "* *`Q3. Qual o tipo de distribuição das variáveis?`*\n",
        "* *`Q4. Há outliers presentes?`*\n",
        "* *`Q5. Qual a correlação existente entre as variáveis`*\n",
        "* *`Q6. Qual a média dos preços de aluguel em Porto?`*\n",
        "* *`Q7. Qual o tipo de imóvel mais alugado no Airbnb em Porto?`*\n",
        "* *`Q8. Qual a localidade mais cara da cidade do Porto?`*\n",
        "* *`Q9. Qual é a média do mínimo de noites para aluguel (minimum_nights)?`*\n"
      ],
      "metadata": {
        "id": "PRzjGzxqcZUU"
      }
    },
    {
      "cell_type": "markdown",
      "metadata": {
        "id": "6-B_qtEaYEd-"
      },
      "source": [
        "### **Q1. Quantos atributos (variáveis) e quantas entradas o nosso conjunto de dados possui? Quais os tipos das variáveis?**\n",
        "\n",
        "Iremos identificar a quantidade de entradas e quantos e quais tipos de colunas que nosso dataset possui."
      ]
    },
    {
      "cell_type": "code",
      "metadata": {
        "id": "TFRK0tniLV-G",
        "colab": {
          "base_uri": "https://localhost:8080/",
          "height": 669
        },
        "outputId": "1a0cc5e2-a591-4191-9ac4-cfbe86b6c628"
      },
      "source": [
        "# Identificando o volume de dados do DataFrame\n",
        "print(f'Entradas:  {df.shape[0]}')\n",
        "print(f'Variaveis: {df.shape[1]}')\n",
        "\n",
        "# verificando as 5 primeiras entradas do dataset\n",
        "df.head()"
      ],
      "execution_count": 3,
      "outputs": [
        {
          "output_type": "stream",
          "name": "stdout",
          "text": [
            "Entradas:  10903\n",
            "Variaveis: 18\n"
          ]
        },
        {
          "output_type": "execute_result",
          "data": {
            "text/plain": [
              "      id                                               name  host_id  \\\n",
              "0  35979              Over the beach apartment,  near Porto   154415   \n",
              "1  41339                       Porto city flat near the sea  6787366   \n",
              "2  55111  Fontielas Houses |Floor1 in House with shared ...   259711   \n",
              "3  73828  Fontielas Houses |Floor0 in House with shared ...   259711   \n",
              "4  86388                    A Formosa - a nest made for two   185209   \n",
              "\n",
              "       host_name neighbourhood_group  \\\n",
              "0        Manuela       VILA DO CONDE   \n",
              "1          Paula               PORTO   \n",
              "2  Isabel E João             PAREDES   \n",
              "3  Isabel E João             PAREDES   \n",
              "4           João               PORTO   \n",
              "\n",
              "                                       neighbourhood  latitude  longitude  \\\n",
              "0                                           Vila Chã  41.29009   -8.73373   \n",
              "1                       Lordelo do Ouro e Massarelos  41.15010   -8.66035   \n",
              "2                                               Cete  41.17481   -8.35362   \n",
              "3                                               Cete  41.17449   -8.35426   \n",
              "4  Cedofeita, Ildefonso, Sé, Miragaia, Nicolau, V...  41.14918   -8.60922   \n",
              "\n",
              "         room_type  price  minimum_nights  number_of_reviews last_review  \\\n",
              "0  Entire home/apt     80               5                 83  2020-09-25   \n",
              "1  Entire home/apt     75               2                 17  2018-09-28   \n",
              "2  Entire home/apt     66               3                 14  2019-09-07   \n",
              "3  Entire home/apt     66               3                  8  2019-07-22   \n",
              "4     Private room     21               2                157  2022-02-22   \n",
              "\n",
              "   reviews_per_month  calculated_host_listings_count  availability_365  \\\n",
              "0               0.59                               2               316   \n",
              "1               0.16                              22               260   \n",
              "2               0.17                               3                 0   \n",
              "3               0.10                               3                 0   \n",
              "4               1.18                               7               123   \n",
              "\n",
              "   number_of_reviews_ltm                                    license  \n",
              "0                      0  Turismo de Portugal, I.P. number 12997/AL  \n",
              "1                      0                                   29049/AL  \n",
              "2                      0                                    7563/AL  \n",
              "3                      0                                    7563/AL  \n",
              "4                     21                                    6995/AL  "
            ],
            "text/html": [
              "\n",
              "  <div id=\"df-9058eac8-4ca6-46c0-a7b7-0768cbd43937\">\n",
              "    <div class=\"colab-df-container\">\n",
              "      <div>\n",
              "<style scoped>\n",
              "    .dataframe tbody tr th:only-of-type {\n",
              "        vertical-align: middle;\n",
              "    }\n",
              "\n",
              "    .dataframe tbody tr th {\n",
              "        vertical-align: top;\n",
              "    }\n",
              "\n",
              "    .dataframe thead th {\n",
              "        text-align: right;\n",
              "    }\n",
              "</style>\n",
              "<table border=\"1\" class=\"dataframe\">\n",
              "  <thead>\n",
              "    <tr style=\"text-align: right;\">\n",
              "      <th></th>\n",
              "      <th>id</th>\n",
              "      <th>name</th>\n",
              "      <th>host_id</th>\n",
              "      <th>host_name</th>\n",
              "      <th>neighbourhood_group</th>\n",
              "      <th>neighbourhood</th>\n",
              "      <th>latitude</th>\n",
              "      <th>longitude</th>\n",
              "      <th>room_type</th>\n",
              "      <th>price</th>\n",
              "      <th>minimum_nights</th>\n",
              "      <th>number_of_reviews</th>\n",
              "      <th>last_review</th>\n",
              "      <th>reviews_per_month</th>\n",
              "      <th>calculated_host_listings_count</th>\n",
              "      <th>availability_365</th>\n",
              "      <th>number_of_reviews_ltm</th>\n",
              "      <th>license</th>\n",
              "    </tr>\n",
              "  </thead>\n",
              "  <tbody>\n",
              "    <tr>\n",
              "      <th>0</th>\n",
              "      <td>35979</td>\n",
              "      <td>Over the beach apartment,  near Porto</td>\n",
              "      <td>154415</td>\n",
              "      <td>Manuela</td>\n",
              "      <td>VILA DO CONDE</td>\n",
              "      <td>Vila Chã</td>\n",
              "      <td>41.29009</td>\n",
              "      <td>-8.73373</td>\n",
              "      <td>Entire home/apt</td>\n",
              "      <td>80</td>\n",
              "      <td>5</td>\n",
              "      <td>83</td>\n",
              "      <td>2020-09-25</td>\n",
              "      <td>0.59</td>\n",
              "      <td>2</td>\n",
              "      <td>316</td>\n",
              "      <td>0</td>\n",
              "      <td>Turismo de Portugal, I.P. number 12997/AL</td>\n",
              "    </tr>\n",
              "    <tr>\n",
              "      <th>1</th>\n",
              "      <td>41339</td>\n",
              "      <td>Porto city flat near the sea</td>\n",
              "      <td>6787366</td>\n",
              "      <td>Paula</td>\n",
              "      <td>PORTO</td>\n",
              "      <td>Lordelo do Ouro e Massarelos</td>\n",
              "      <td>41.15010</td>\n",
              "      <td>-8.66035</td>\n",
              "      <td>Entire home/apt</td>\n",
              "      <td>75</td>\n",
              "      <td>2</td>\n",
              "      <td>17</td>\n",
              "      <td>2018-09-28</td>\n",
              "      <td>0.16</td>\n",
              "      <td>22</td>\n",
              "      <td>260</td>\n",
              "      <td>0</td>\n",
              "      <td>29049/AL</td>\n",
              "    </tr>\n",
              "    <tr>\n",
              "      <th>2</th>\n",
              "      <td>55111</td>\n",
              "      <td>Fontielas Houses |Floor1 in House with shared ...</td>\n",
              "      <td>259711</td>\n",
              "      <td>Isabel E João</td>\n",
              "      <td>PAREDES</td>\n",
              "      <td>Cete</td>\n",
              "      <td>41.17481</td>\n",
              "      <td>-8.35362</td>\n",
              "      <td>Entire home/apt</td>\n",
              "      <td>66</td>\n",
              "      <td>3</td>\n",
              "      <td>14</td>\n",
              "      <td>2019-09-07</td>\n",
              "      <td>0.17</td>\n",
              "      <td>3</td>\n",
              "      <td>0</td>\n",
              "      <td>0</td>\n",
              "      <td>7563/AL</td>\n",
              "    </tr>\n",
              "    <tr>\n",
              "      <th>3</th>\n",
              "      <td>73828</td>\n",
              "      <td>Fontielas Houses |Floor0 in House with shared ...</td>\n",
              "      <td>259711</td>\n",
              "      <td>Isabel E João</td>\n",
              "      <td>PAREDES</td>\n",
              "      <td>Cete</td>\n",
              "      <td>41.17449</td>\n",
              "      <td>-8.35426</td>\n",
              "      <td>Entire home/apt</td>\n",
              "      <td>66</td>\n",
              "      <td>3</td>\n",
              "      <td>8</td>\n",
              "      <td>2019-07-22</td>\n",
              "      <td>0.10</td>\n",
              "      <td>3</td>\n",
              "      <td>0</td>\n",
              "      <td>0</td>\n",
              "      <td>7563/AL</td>\n",
              "    </tr>\n",
              "    <tr>\n",
              "      <th>4</th>\n",
              "      <td>86388</td>\n",
              "      <td>A Formosa - a nest made for two</td>\n",
              "      <td>185209</td>\n",
              "      <td>João</td>\n",
              "      <td>PORTO</td>\n",
              "      <td>Cedofeita, Ildefonso, Sé, Miragaia, Nicolau, V...</td>\n",
              "      <td>41.14918</td>\n",
              "      <td>-8.60922</td>\n",
              "      <td>Private room</td>\n",
              "      <td>21</td>\n",
              "      <td>2</td>\n",
              "      <td>157</td>\n",
              "      <td>2022-02-22</td>\n",
              "      <td>1.18</td>\n",
              "      <td>7</td>\n",
              "      <td>123</td>\n",
              "      <td>21</td>\n",
              "      <td>6995/AL</td>\n",
              "    </tr>\n",
              "  </tbody>\n",
              "</table>\n",
              "</div>\n",
              "      <button class=\"colab-df-convert\" onclick=\"convertToInteractive('df-9058eac8-4ca6-46c0-a7b7-0768cbd43937')\"\n",
              "              title=\"Convert this dataframe to an interactive table.\"\n",
              "              style=\"display:none;\">\n",
              "        \n",
              "  <svg xmlns=\"http://www.w3.org/2000/svg\" height=\"24px\"viewBox=\"0 0 24 24\"\n",
              "       width=\"24px\">\n",
              "    <path d=\"M0 0h24v24H0V0z\" fill=\"none\"/>\n",
              "    <path d=\"M18.56 5.44l.94 2.06.94-2.06 2.06-.94-2.06-.94-.94-2.06-.94 2.06-2.06.94zm-11 1L8.5 8.5l.94-2.06 2.06-.94-2.06-.94L8.5 2.5l-.94 2.06-2.06.94zm10 10l.94 2.06.94-2.06 2.06-.94-2.06-.94-.94-2.06-.94 2.06-2.06.94z\"/><path d=\"M17.41 7.96l-1.37-1.37c-.4-.4-.92-.59-1.43-.59-.52 0-1.04.2-1.43.59L10.3 9.45l-7.72 7.72c-.78.78-.78 2.05 0 2.83L4 21.41c.39.39.9.59 1.41.59.51 0 1.02-.2 1.41-.59l7.78-7.78 2.81-2.81c.8-.78.8-2.07 0-2.86zM5.41 20L4 18.59l7.72-7.72 1.47 1.35L5.41 20z\"/>\n",
              "  </svg>\n",
              "      </button>\n",
              "      \n",
              "  <style>\n",
              "    .colab-df-container {\n",
              "      display:flex;\n",
              "      flex-wrap:wrap;\n",
              "      gap: 12px;\n",
              "    }\n",
              "\n",
              "    .colab-df-convert {\n",
              "      background-color: #E8F0FE;\n",
              "      border: none;\n",
              "      border-radius: 50%;\n",
              "      cursor: pointer;\n",
              "      display: none;\n",
              "      fill: #1967D2;\n",
              "      height: 32px;\n",
              "      padding: 0 0 0 0;\n",
              "      width: 32px;\n",
              "    }\n",
              "\n",
              "    .colab-df-convert:hover {\n",
              "      background-color: #E2EBFA;\n",
              "      box-shadow: 0px 1px 2px rgba(60, 64, 67, 0.3), 0px 1px 3px 1px rgba(60, 64, 67, 0.15);\n",
              "      fill: #174EA6;\n",
              "    }\n",
              "\n",
              "    [theme=dark] .colab-df-convert {\n",
              "      background-color: #3B4455;\n",
              "      fill: #D2E3FC;\n",
              "    }\n",
              "\n",
              "    [theme=dark] .colab-df-convert:hover {\n",
              "      background-color: #434B5C;\n",
              "      box-shadow: 0px 1px 3px 1px rgba(0, 0, 0, 0.15);\n",
              "      filter: drop-shadow(0px 1px 2px rgba(0, 0, 0, 0.3));\n",
              "      fill: #FFFFFF;\n",
              "    }\n",
              "  </style>\n",
              "\n",
              "      <script>\n",
              "        const buttonEl =\n",
              "          document.querySelector('#df-9058eac8-4ca6-46c0-a7b7-0768cbd43937 button.colab-df-convert');\n",
              "        buttonEl.style.display =\n",
              "          google.colab.kernel.accessAllowed ? 'block' : 'none';\n",
              "\n",
              "        async function convertToInteractive(key) {\n",
              "          const element = document.querySelector('#df-9058eac8-4ca6-46c0-a7b7-0768cbd43937');\n",
              "          const dataTable =\n",
              "            await google.colab.kernel.invokeFunction('convertToInteractive',\n",
              "                                                     [key], {});\n",
              "          if (!dataTable) return;\n",
              "\n",
              "          const docLinkHtml = 'Like what you see? Visit the ' +\n",
              "            '<a target=\"_blank\" href=https://colab.research.google.com/notebooks/data_table.ipynb>data table notebook</a>'\n",
              "            + ' to learn more about interactive tables.';\n",
              "          element.innerHTML = '';\n",
              "          dataTable['output_type'] = 'display_data';\n",
              "          await google.colab.output.renderOutput(dataTable, element);\n",
              "          const docLink = document.createElement('div');\n",
              "          docLink.innerHTML = docLinkHtml;\n",
              "          element.appendChild(docLink);\n",
              "        }\n",
              "      </script>\n",
              "    </div>\n",
              "  </div>\n",
              "  "
            ]
          },
          "metadata": {},
          "execution_count": 3
        }
      ]
    },
    {
      "cell_type": "markdown",
      "metadata": {
        "id": "yz1urSUGW9iE"
      },
      "source": [
        "### **Q2. Qual a porcentagem de valores ausentes no *dataset*?**\n",
        "Sabemos que se houver valores ausentes no nosso dataset pode acarretar em uma análise inconsistente e sem está bem fundamentada. Então iremos analisar a quantidade desses dados faltantes para mantermos a qualidade do dataset.\n",
        "\n",
        "Vamos somar a quantidade de dados faltantes e dividir pela quantidade total para trazermos a porcentagem de cada variável e iremos ordenar em ordem decrescente.\n",
        "\n",
        "\n",
        "* Assim é possível verificar que `reviews_per_month`e `last_review` tem quase 15% dos valores faltantes.\n",
        "* E `license` com quase 8% dos valores faltantes.\n",
        "* E `host_name` com menos de 1% de valores faltantes."
      ]
    },
    {
      "cell_type": "code",
      "metadata": {
        "id": "plk2FjbCXOqP",
        "colab": {
          "base_uri": "https://localhost:8080/"
        },
        "outputId": "52724410-9f7a-49a4-aaa7-e6fc6672c48a"
      },
      "source": [
        "# Ordenando em ordem decrescente as variáveis por seus valores ausentes\n",
        "(df.isnull().sum() / df.shape[0]).sort_values(ascending=False) \n"
      ],
      "execution_count": null,
      "outputs": [
        {
          "output_type": "execute_result",
          "data": {
            "text/plain": [
              "reviews_per_month                 0.154820\n",
              "last_review                       0.154820\n",
              "license                           0.078786\n",
              "host_name                         0.000092\n",
              "minimum_nights                    0.000000\n",
              "number_of_reviews_ltm             0.000000\n",
              "availability_365                  0.000000\n",
              "calculated_host_listings_count    0.000000\n",
              "number_of_reviews                 0.000000\n",
              "id                                0.000000\n",
              "name                              0.000000\n",
              "room_type                         0.000000\n",
              "longitude                         0.000000\n",
              "latitude                          0.000000\n",
              "neighbourhood                     0.000000\n",
              "neighbourhood_group               0.000000\n",
              "host_id                           0.000000\n",
              "price                             0.000000\n",
              "dtype: float64"
            ]
          },
          "metadata": {},
          "execution_count": 4
        }
      ]
    },
    {
      "cell_type": "markdown",
      "metadata": {
        "id": "iHXvvHIxaoNc"
      },
      "source": [
        "### **Q3. Qual o tipo de distribuição das variáveis?** \n",
        "\n",
        "Vamos plotar um histograma para fazer a identificação da distribuição por variáveis."
      ]
    },
    {
      "cell_type": "code",
      "metadata": {
        "id": "q2wWSfeRbmBo",
        "colab": {
          "base_uri": "https://localhost:8080/",
          "height": 200
        },
        "outputId": "a66a2256-7cbf-4fc2-b75c-61fa5d206abd"
      },
      "source": [
        "# Plotando histograma das variáveis numéricas\n",
        "\n",
        "df.hist(bins=15, figsize=(20,10), grid=False);"
      ],
      "execution_count": null,
      "outputs": [
        {
          "output_type": "error",
          "ename": "NameError",
          "evalue": "ignored",
          "traceback": [
            "\u001b[0;31m---------------------------------------------------------------------------\u001b[0m",
            "\u001b[0;31mNameError\u001b[0m                                 Traceback (most recent call last)",
            "\u001b[0;32m<ipython-input-1-29542c842246>\u001b[0m in \u001b[0;36m<module>\u001b[0;34m\u001b[0m\n\u001b[1;32m      1\u001b[0m \u001b[0;31m# Plotando histograma das variáveis numéricas\u001b[0m\u001b[0;34m\u001b[0m\u001b[0;34m\u001b[0m\u001b[0;34m\u001b[0m\u001b[0m\n\u001b[1;32m      2\u001b[0m \u001b[0;34m\u001b[0m\u001b[0m\n\u001b[0;32m----> 3\u001b[0;31m \u001b[0mdf\u001b[0m\u001b[0;34m.\u001b[0m\u001b[0mhist\u001b[0m\u001b[0;34m(\u001b[0m\u001b[0mbins\u001b[0m\u001b[0;34m=\u001b[0m\u001b[0;36m15\u001b[0m\u001b[0;34m,\u001b[0m \u001b[0mfigsize\u001b[0m\u001b[0;34m=\u001b[0m\u001b[0;34m(\u001b[0m\u001b[0;36m20\u001b[0m\u001b[0;34m,\u001b[0m\u001b[0;36m10\u001b[0m\u001b[0;34m)\u001b[0m\u001b[0;34m,\u001b[0m \u001b[0mgrid\u001b[0m\u001b[0;34m=\u001b[0m\u001b[0;32mFalse\u001b[0m\u001b[0;34m)\u001b[0m\u001b[0;34m;\u001b[0m\u001b[0;34m\u001b[0m\u001b[0;34m\u001b[0m\u001b[0m\n\u001b[0m",
            "\u001b[0;31mNameError\u001b[0m: name 'df' is not defined"
          ]
        }
      ]
    },
    {
      "cell_type": "markdown",
      "source": [
        "###**Q4. Há outliers presentes?**\n",
        "\n",
        "Podemos notar que pela distribuição do histograma há indícios da presença de outliers. Notamos que não uma perfeita distribuição em nas variáveis price, minimum_nights e calculated_host_listings_count.\n",
        "\n",
        "Os valores distorcem toda a representação gráfica e não seguem uma distribuição. Iremos confirmar com o auxílio de duas maneiras rápidas que auxiliam na detecção de outliers. São elas:\n",
        "\n",
        "\n",
        "* O método `describe()` que faz um resumo estatístico;\n",
        "* Plotar um `boxplots` para a variável."
      ],
      "metadata": {
        "id": "ssrOxpO8mj_u"
      }
    },
    {
      "cell_type": "code",
      "source": [
        "#Verificando o resumo estatístico das variáveis numéricas\n",
        "df[['price', 'minimum_nights', 'number_of_reviews', 'reviews_per_month', 'calculated_host_listings_count', 'availability_365']].describe()"
      ],
      "metadata": {
        "colab": {
          "base_uri": "https://localhost:8080/",
          "height": 300
        },
        "id": "Xxmrejkzmx7a",
        "outputId": "441daac5-e08f-497b-91e0-e22dd629391d"
      },
      "execution_count": null,
      "outputs": [
        {
          "output_type": "execute_result",
          "data": {
            "text/plain": [
              "              price  minimum_nights  number_of_reviews  reviews_per_month  \\\n",
              "count  10903.000000    10903.000000       10903.000000        9215.000000   \n",
              "mean      89.855911        4.022287          44.483261           1.298514   \n",
              "std      312.283497       30.912796          73.829714           1.377262   \n",
              "min        9.000000        1.000000           0.000000           0.010000   \n",
              "25%       42.000000        1.000000           2.000000           0.270000   \n",
              "50%       60.000000        2.000000          14.000000           0.810000   \n",
              "75%       87.000000        2.000000          53.000000           1.920000   \n",
              "max    11799.000000     1124.000000         749.000000          10.840000   \n",
              "\n",
              "       calculated_host_listings_count  availability_365  \n",
              "count                     10903.00000      10903.000000  \n",
              "mean                         23.97918        219.769054  \n",
              "std                          64.28213        121.591401  \n",
              "min                           1.00000          0.000000  \n",
              "25%                           1.00000        132.000000  \n",
              "50%                           4.00000        257.000000  \n",
              "75%                          11.00000        323.000000  \n",
              "max                         345.00000        365.000000  "
            ],
            "text/html": [
              "\n",
              "  <div id=\"df-df4e7a5a-a08d-47f5-b54b-45e2089e1aee\">\n",
              "    <div class=\"colab-df-container\">\n",
              "      <div>\n",
              "<style scoped>\n",
              "    .dataframe tbody tr th:only-of-type {\n",
              "        vertical-align: middle;\n",
              "    }\n",
              "\n",
              "    .dataframe tbody tr th {\n",
              "        vertical-align: top;\n",
              "    }\n",
              "\n",
              "    .dataframe thead th {\n",
              "        text-align: right;\n",
              "    }\n",
              "</style>\n",
              "<table border=\"1\" class=\"dataframe\">\n",
              "  <thead>\n",
              "    <tr style=\"text-align: right;\">\n",
              "      <th></th>\n",
              "      <th>price</th>\n",
              "      <th>minimum_nights</th>\n",
              "      <th>number_of_reviews</th>\n",
              "      <th>reviews_per_month</th>\n",
              "      <th>calculated_host_listings_count</th>\n",
              "      <th>availability_365</th>\n",
              "    </tr>\n",
              "  </thead>\n",
              "  <tbody>\n",
              "    <tr>\n",
              "      <th>count</th>\n",
              "      <td>10903.000000</td>\n",
              "      <td>10903.000000</td>\n",
              "      <td>10903.000000</td>\n",
              "      <td>9215.000000</td>\n",
              "      <td>10903.00000</td>\n",
              "      <td>10903.000000</td>\n",
              "    </tr>\n",
              "    <tr>\n",
              "      <th>mean</th>\n",
              "      <td>89.855911</td>\n",
              "      <td>4.022287</td>\n",
              "      <td>44.483261</td>\n",
              "      <td>1.298514</td>\n",
              "      <td>23.97918</td>\n",
              "      <td>219.769054</td>\n",
              "    </tr>\n",
              "    <tr>\n",
              "      <th>std</th>\n",
              "      <td>312.283497</td>\n",
              "      <td>30.912796</td>\n",
              "      <td>73.829714</td>\n",
              "      <td>1.377262</td>\n",
              "      <td>64.28213</td>\n",
              "      <td>121.591401</td>\n",
              "    </tr>\n",
              "    <tr>\n",
              "      <th>min</th>\n",
              "      <td>9.000000</td>\n",
              "      <td>1.000000</td>\n",
              "      <td>0.000000</td>\n",
              "      <td>0.010000</td>\n",
              "      <td>1.00000</td>\n",
              "      <td>0.000000</td>\n",
              "    </tr>\n",
              "    <tr>\n",
              "      <th>25%</th>\n",
              "      <td>42.000000</td>\n",
              "      <td>1.000000</td>\n",
              "      <td>2.000000</td>\n",
              "      <td>0.270000</td>\n",
              "      <td>1.00000</td>\n",
              "      <td>132.000000</td>\n",
              "    </tr>\n",
              "    <tr>\n",
              "      <th>50%</th>\n",
              "      <td>60.000000</td>\n",
              "      <td>2.000000</td>\n",
              "      <td>14.000000</td>\n",
              "      <td>0.810000</td>\n",
              "      <td>4.00000</td>\n",
              "      <td>257.000000</td>\n",
              "    </tr>\n",
              "    <tr>\n",
              "      <th>75%</th>\n",
              "      <td>87.000000</td>\n",
              "      <td>2.000000</td>\n",
              "      <td>53.000000</td>\n",
              "      <td>1.920000</td>\n",
              "      <td>11.00000</td>\n",
              "      <td>323.000000</td>\n",
              "    </tr>\n",
              "    <tr>\n",
              "      <th>max</th>\n",
              "      <td>11799.000000</td>\n",
              "      <td>1124.000000</td>\n",
              "      <td>749.000000</td>\n",
              "      <td>10.840000</td>\n",
              "      <td>345.00000</td>\n",
              "      <td>365.000000</td>\n",
              "    </tr>\n",
              "  </tbody>\n",
              "</table>\n",
              "</div>\n",
              "      <button class=\"colab-df-convert\" onclick=\"convertToInteractive('df-df4e7a5a-a08d-47f5-b54b-45e2089e1aee')\"\n",
              "              title=\"Convert this dataframe to an interactive table.\"\n",
              "              style=\"display:none;\">\n",
              "        \n",
              "  <svg xmlns=\"http://www.w3.org/2000/svg\" height=\"24px\"viewBox=\"0 0 24 24\"\n",
              "       width=\"24px\">\n",
              "    <path d=\"M0 0h24v24H0V0z\" fill=\"none\"/>\n",
              "    <path d=\"M18.56 5.44l.94 2.06.94-2.06 2.06-.94-2.06-.94-.94-2.06-.94 2.06-2.06.94zm-11 1L8.5 8.5l.94-2.06 2.06-.94-2.06-.94L8.5 2.5l-.94 2.06-2.06.94zm10 10l.94 2.06.94-2.06 2.06-.94-2.06-.94-.94-2.06-.94 2.06-2.06.94z\"/><path d=\"M17.41 7.96l-1.37-1.37c-.4-.4-.92-.59-1.43-.59-.52 0-1.04.2-1.43.59L10.3 9.45l-7.72 7.72c-.78.78-.78 2.05 0 2.83L4 21.41c.39.39.9.59 1.41.59.51 0 1.02-.2 1.41-.59l7.78-7.78 2.81-2.81c.8-.78.8-2.07 0-2.86zM5.41 20L4 18.59l7.72-7.72 1.47 1.35L5.41 20z\"/>\n",
              "  </svg>\n",
              "      </button>\n",
              "      \n",
              "  <style>\n",
              "    .colab-df-container {\n",
              "      display:flex;\n",
              "      flex-wrap:wrap;\n",
              "      gap: 12px;\n",
              "    }\n",
              "\n",
              "    .colab-df-convert {\n",
              "      background-color: #E8F0FE;\n",
              "      border: none;\n",
              "      border-radius: 50%;\n",
              "      cursor: pointer;\n",
              "      display: none;\n",
              "      fill: #1967D2;\n",
              "      height: 32px;\n",
              "      padding: 0 0 0 0;\n",
              "      width: 32px;\n",
              "    }\n",
              "\n",
              "    .colab-df-convert:hover {\n",
              "      background-color: #E2EBFA;\n",
              "      box-shadow: 0px 1px 2px rgba(60, 64, 67, 0.3), 0px 1px 3px 1px rgba(60, 64, 67, 0.15);\n",
              "      fill: #174EA6;\n",
              "    }\n",
              "\n",
              "    [theme=dark] .colab-df-convert {\n",
              "      background-color: #3B4455;\n",
              "      fill: #D2E3FC;\n",
              "    }\n",
              "\n",
              "    [theme=dark] .colab-df-convert:hover {\n",
              "      background-color: #434B5C;\n",
              "      box-shadow: 0px 1px 3px 1px rgba(0, 0, 0, 0.15);\n",
              "      filter: drop-shadow(0px 1px 2px rgba(0, 0, 0, 0.3));\n",
              "      fill: #FFFFFF;\n",
              "    }\n",
              "  </style>\n",
              "\n",
              "      <script>\n",
              "        const buttonEl =\n",
              "          document.querySelector('#df-df4e7a5a-a08d-47f5-b54b-45e2089e1aee button.colab-df-convert');\n",
              "        buttonEl.style.display =\n",
              "          google.colab.kernel.accessAllowed ? 'block' : 'none';\n",
              "\n",
              "        async function convertToInteractive(key) {\n",
              "          const element = document.querySelector('#df-df4e7a5a-a08d-47f5-b54b-45e2089e1aee');\n",
              "          const dataTable =\n",
              "            await google.colab.kernel.invokeFunction('convertToInteractive',\n",
              "                                                     [key], {});\n",
              "          if (!dataTable) return;\n",
              "\n",
              "          const docLinkHtml = 'Like what you see? Visit the ' +\n",
              "            '<a target=\"_blank\" href=https://colab.research.google.com/notebooks/data_table.ipynb>data table notebook</a>'\n",
              "            + ' to learn more about interactive tables.';\n",
              "          element.innerHTML = '';\n",
              "          dataTable['output_type'] = 'display_data';\n",
              "          await google.colab.output.renderOutput(dataTable, element);\n",
              "          const docLink = document.createElement('div');\n",
              "          docLink.innerHTML = docLinkHtml;\n",
              "          element.appendChild(docLink);\n",
              "        }\n",
              "      </script>\n",
              "    </div>\n",
              "  </div>\n",
              "  "
            ]
          },
          "metadata": {},
          "execution_count": 26
        }
      ]
    },
    {
      "cell_type": "markdown",
      "source": [
        "Analisando o resume estatístico acima, podemos inferir algumas hipóteses, vejamos:\n",
        "\n",
        "* Na variável `price` temos que 75% dos valores estão abaixo de 87, no entanto o seu valor máximo é de 11799.\n",
        "* Na variável `minimum_nights` temos que o máximo é de 1124 dias, mostrando que está acima de 365 dias no ano.\n",
        "\n",
        "Iremos plotar o Boxsplot para minimum_nights\n"
      ],
      "metadata": {
        "id": "HV-81UcTrmaO"
      }
    },
    {
      "cell_type": "code",
      "source": [
        "#Boxsplot minimim_nights\n",
        "\n",
        "df.minimum_nights.plot(kind='box', vert=False, figsize=(15,3))\n",
        "plt.show()\n",
        "\n",
        "#Buscando a quantidade de valores acima de 30 dias para minimum_nights\n",
        "\n",
        "print(f'minimum_nights: valores acima de 30: ')\n",
        "print(f'{(len(df[df.minimum_nights > 30]))} entradas')\n",
        "print(f'{(len(df[df.minimum_nights > 30]) / df.shape[0]) * 100 :.4f}% ')\n",
        "\n"
      ],
      "metadata": {
        "colab": {
          "base_uri": "https://localhost:8080/",
          "height": 263
        },
        "id": "qwCRkSDjtpLf",
        "outputId": "6a56a724-402a-43d1-fc90-a79d8cc30d80"
      },
      "execution_count": null,
      "outputs": [
        {
          "output_type": "display_data",
          "data": {
            "text/plain": [
              "<Figure size 1080x216 with 1 Axes>"
            ],
            "image/png": "[encoded data removed]"
          },
          "metadata": {
            "needs_background": "light"
          }
        },
        {
          "output_type": "stream",
          "name": "stdout",
          "text": [
            "minimum_nights: valores acima de 30: \n",
            "72 entradas\n",
            "0.6604% \n"
          ]
        }
      ]
    },
    {
      "cell_type": "markdown",
      "source": [
        "Iremos plotar o Boxsplot para Price"
      ],
      "metadata": {
        "id": "vkL6R6Im6yrT"
      }
    },
    {
      "cell_type": "code",
      "source": [
        "# Boxsplot Price\n",
        "\n",
        "df.price.plot(kind='box', vert=False, figsize=(20,3))\n",
        "plt.show()\n",
        "\n",
        "# Buscando valor acima de 1000 para price\n",
        "print(f'Price: Valores acima de 1000')\n",
        "print(f'{(len(df[df.price > 1000]))} entradas')\n",
        "print(f'{(len(df[df.price > 1000]) / df.shape[0]) * 100 :.4f}%')"
      ],
      "metadata": {
        "colab": {
          "base_uri": "https://localhost:8080/",
          "height": 263
        },
        "id": "3HEezXiV67F5",
        "outputId": "9cdd2c42-9820-4ecc-d996-78bd52d7b56e"
      },
      "execution_count": null,
      "outputs": [
        {
          "output_type": "display_data",
          "data": {
            "text/plain": [
              "<Figure size 1440x216 with 1 Axes>"
            ],
            "image/png": "[encoded data removed]"
          },
          "metadata": {
            "needs_background": "light"
          }
        },
        {
          "output_type": "stream",
          "name": "stdout",
          "text": [
            "Price: Valores acima de 1000\n",
            "40 entradas\n",
            "0.3669%\n"
          ]
        }
      ]
    },
    {
      "cell_type": "markdown",
      "source": [
        "Agora iremos plotar os Histogramas sem outliers\n",
        "\n",
        "Foi identificado os outliers nas variáveis `price` e `minimum_nights`, iremos limpar o Dataframe e plotar um novo histograma com outro DataFrame."
      ],
      "metadata": {
        "id": "xCYlcwZ59AFQ"
      }
    },
    {
      "cell_type": "code",
      "source": [
        "# Removendo os outliers em um novo DataFrame\n",
        "df2 = df.copy()\n",
        "df2.drop(df2[df2.price > 1000].index, axis=0, inplace=True)\n",
        "df2.drop(df2[df2.minimum_nights > 30].index, axis=0, inplace=True)\n",
        "\n",
        "# Plotando histograma para as variáveis numéricas \n",
        "df2.hist(bins=15, figsize=(20, 10), grid=False);"
      ],
      "metadata": {
        "colab": {
          "base_uri": "https://localhost:8080/",
          "height": 607
        },
        "id": "jkbt161n9Jg7",
        "outputId": "5481a369-899a-40cb-a622-18e449f6820d"
      },
      "execution_count": null,
      "outputs": [
        {
          "output_type": "display_data",
          "data": {
            "text/plain": [
              "<Figure size 1440x720 with 12 Axes>"
            ],
            "image/png": "[encoded data removed]"
          },
          "metadata": {
            "needs_background": "light"
          }
        }
      ]
    },
    {
      "cell_type": "markdown",
      "metadata": {
        "id": "IXn2oIo5qx-w"
      },
      "source": [
        "##**Q5. Qual a correlação existente entre as variáveis?**\n",
        "\n",
        "O conceito de correlação representa a existência de uma relação entre duas coisas. Na nossa análise, estamos buscando esse significado de relação ou semelhança entre duas variáveis.\n",
        "\n",
        "O coeficiente de correlação tem a função de estabelecer a intensidade entre a relação entre as variáveis. Então iremos identificar essa correlação entre as variáveis com os seguintes procedimentos:\n",
        "\n",
        "* Criaremos uma matriz de correlação\n",
        "* Um *heatmap* será gerado a partir dessa matriz criada, utilizando a biblioteca `seaborn`\n"
      ]
    },
    {
      "cell_type": "code",
      "metadata": {
        "id": "x2ayzBajqxyd",
        "colab": {
          "base_uri": "https://localhost:8080/",
          "height": 632
        },
        "outputId": "1336b23c-2c9f-4679-a585-b2c7501c3ba5"
      },
      "source": [
        "# Criando e mostrando a matriz de correlação\n",
        "\n",
        "corr = df2[['price', 'minimum_nights', 'number_of_reviews', 'reviews_per_month', 'calculated_host_listings_count', 'availability_365']].corr()\n",
        "display(corr)\n",
        "\n",
        "# Plotando o heatmap com as correlações\n",
        "\n",
        "sns.heatmap(corr, cmap='RdGy', fmt='.2f', square=True, linecolor='yellow', annot=True);\n"
      ],
      "execution_count": null,
      "outputs": [
        {
          "output_type": "display_data",
          "data": {
            "text/plain": [
              "                                   price  minimum_nights  number_of_reviews  \\\n",
              "price                           1.000000       -0.024028          -0.098722   \n",
              "minimum_nights                 -0.024028        1.000000          -0.052864   \n",
              "number_of_reviews              -0.098722       -0.052864           1.000000   \n",
              "reviews_per_month              -0.134512       -0.119876           0.683073   \n",
              "calculated_host_listings_count -0.070403       -0.077685           0.053016   \n",
              "availability_365                0.082074       -0.103042          -0.028451   \n",
              "\n",
              "                                reviews_per_month  \\\n",
              "price                                   -0.134512   \n",
              "minimum_nights                          -0.119876   \n",
              "number_of_reviews                        0.683073   \n",
              "reviews_per_month                        1.000000   \n",
              "calculated_host_listings_count           0.177957   \n",
              "availability_365                         0.071937   \n",
              "\n",
              "                                calculated_host_listings_count  \\\n",
              "price                                                -0.070403   \n",
              "minimum_nights                                       -0.077685   \n",
              "number_of_reviews                                     0.053016   \n",
              "reviews_per_month                                     0.177957   \n",
              "calculated_host_listings_count                        1.000000   \n",
              "availability_365                                      0.134825   \n",
              "\n",
              "                                availability_365  \n",
              "price                                   0.082074  \n",
              "minimum_nights                         -0.103042  \n",
              "number_of_reviews                      -0.028451  \n",
              "reviews_per_month                       0.071937  \n",
              "calculated_host_listings_count          0.134825  \n",
              "availability_365                        1.000000  "
            ],
            "text/html": [
              "\n",
              "  <div id=\"df-7b8d4b92-6ea7-42fa-b42e-7e536bb72259\">\n",
              "    <div class=\"colab-df-container\">\n",
              "      <div>\n",
              "<style scoped>\n",
              "    .dataframe tbody tr th:only-of-type {\n",
              "        vertical-align: middle;\n",
              "    }\n",
              "\n",
              "    .dataframe tbody tr th {\n",
              "        vertical-align: top;\n",
              "    }\n",
              "\n",
              "    .dataframe thead th {\n",
              "        text-align: right;\n",
              "    }\n",
              "</style>\n",
              "<table border=\"1\" class=\"dataframe\">\n",
              "  <thead>\n",
              "    <tr style=\"text-align: right;\">\n",
              "      <th></th>\n",
              "      <th>price</th>\n",
              "      <th>minimum_nights</th>\n",
              "      <th>number_of_reviews</th>\n",
              "      <th>reviews_per_month</th>\n",
              "      <th>calculated_host_listings_count</th>\n",
              "      <th>availability_365</th>\n",
              "    </tr>\n",
              "  </thead>\n",
              "  <tbody>\n",
              "    <tr>\n",
              "      <th>price</th>\n",
              "      <td>1.000000</td>\n",
              "      <td>-0.024028</td>\n",
              "      <td>-0.098722</td>\n",
              "      <td>-0.134512</td>\n",
              "      <td>-0.070403</td>\n",
              "      <td>0.082074</td>\n",
              "    </tr>\n",
              "    <tr>\n",
              "      <th>minimum_nights</th>\n",
              "      <td>-0.024028</td>\n",
              "      <td>1.000000</td>\n",
              "      <td>-0.052864</td>\n",
              "      <td>-0.119876</td>\n",
              "      <td>-0.077685</td>\n",
              "      <td>-0.103042</td>\n",
              "    </tr>\n",
              "    <tr>\n",
              "      <th>number_of_reviews</th>\n",
              "      <td>-0.098722</td>\n",
              "      <td>-0.052864</td>\n",
              "      <td>1.000000</td>\n",
              "      <td>0.683073</td>\n",
              "      <td>0.053016</td>\n",
              "      <td>-0.028451</td>\n",
              "    </tr>\n",
              "    <tr>\n",
              "      <th>reviews_per_month</th>\n",
              "      <td>-0.134512</td>\n",
              "      <td>-0.119876</td>\n",
              "      <td>0.683073</td>\n",
              "      <td>1.000000</td>\n",
              "      <td>0.177957</td>\n",
              "      <td>0.071937</td>\n",
              "    </tr>\n",
              "    <tr>\n",
              "      <th>calculated_host_listings_count</th>\n",
              "      <td>-0.070403</td>\n",
              "      <td>-0.077685</td>\n",
              "      <td>0.053016</td>\n",
              "      <td>0.177957</td>\n",
              "      <td>1.000000</td>\n",
              "      <td>0.134825</td>\n",
              "    </tr>\n",
              "    <tr>\n",
              "      <th>availability_365</th>\n",
              "      <td>0.082074</td>\n",
              "      <td>-0.103042</td>\n",
              "      <td>-0.028451</td>\n",
              "      <td>0.071937</td>\n",
              "      <td>0.134825</td>\n",
              "      <td>1.000000</td>\n",
              "    </tr>\n",
              "  </tbody>\n",
              "</table>\n",
              "</div>\n",
              "      <button class=\"colab-df-convert\" onclick=\"convertToInteractive('df-7b8d4b92-6ea7-42fa-b42e-7e536bb72259')\"\n",
              "              title=\"Convert this dataframe to an interactive table.\"\n",
              "              style=\"display:none;\">\n",
              "        \n",
              "  <svg xmlns=\"http://www.w3.org/2000/svg\" height=\"24px\"viewBox=\"0 0 24 24\"\n",
              "       width=\"24px\">\n",
              "    <path d=\"M0 0h24v24H0V0z\" fill=\"none\"/>\n",
              "    <path d=\"M18.56 5.44l.94 2.06.94-2.06 2.06-.94-2.06-.94-.94-2.06-.94 2.06-2.06.94zm-11 1L8.5 8.5l.94-2.06 2.06-.94-2.06-.94L8.5 2.5l-.94 2.06-2.06.94zm10 10l.94 2.06.94-2.06 2.06-.94-2.06-.94-.94-2.06-.94 2.06-2.06.94z\"/><path d=\"M17.41 7.96l-1.37-1.37c-.4-.4-.92-.59-1.43-.59-.52 0-1.04.2-1.43.59L10.3 9.45l-7.72 7.72c-.78.78-.78 2.05 0 2.83L4 21.41c.39.39.9.59 1.41.59.51 0 1.02-.2 1.41-.59l7.78-7.78 2.81-2.81c.8-.78.8-2.07 0-2.86zM5.41 20L4 18.59l7.72-7.72 1.47 1.35L5.41 20z\"/>\n",
              "  </svg>\n",
              "      </button>\n",
              "      \n",
              "  <style>\n",
              "    .colab-df-container {\n",
              "      display:flex;\n",
              "      flex-wrap:wrap;\n",
              "      gap: 12px;\n",
              "    }\n",
              "\n",
              "    .colab-df-convert {\n",
              "      background-color: #E8F0FE;\n",
              "      border: none;\n",
              "      border-radius: 50%;\n",
              "      cursor: pointer;\n",
              "      display: none;\n",
              "      fill: #1967D2;\n",
              "      height: 32px;\n",
              "      padding: 0 0 0 0;\n",
              "      width: 32px;\n",
              "    }\n",
              "\n",
              "    .colab-df-convert:hover {\n",
              "      background-color: #E2EBFA;\n",
              "      box-shadow: 0px 1px 2px rgba(60, 64, 67, 0.3), 0px 1px 3px 1px rgba(60, 64, 67, 0.15);\n",
              "      fill: #174EA6;\n",
              "    }\n",
              "\n",
              "    [theme=dark] .colab-df-convert {\n",
              "      background-color: #3B4455;\n",
              "      fill: #D2E3FC;\n",
              "    }\n",
              "\n",
              "    [theme=dark] .colab-df-convert:hover {\n",
              "      background-color: #434B5C;\n",
              "      box-shadow: 0px 1px 3px 1px rgba(0, 0, 0, 0.15);\n",
              "      filter: drop-shadow(0px 1px 2px rgba(0, 0, 0, 0.3));\n",
              "      fill: #FFFFFF;\n",
              "    }\n",
              "  </style>\n",
              "\n",
              "      <script>\n",
              "        const buttonEl =\n",
              "          document.querySelector('#df-7b8d4b92-6ea7-42fa-b42e-7e536bb72259 button.colab-df-convert');\n",
              "        buttonEl.style.display =\n",
              "          google.colab.kernel.accessAllowed ? 'block' : 'none';\n",
              "\n",
              "        async function convertToInteractive(key) {\n",
              "          const element = document.querySelector('#df-7b8d4b92-6ea7-42fa-b42e-7e536bb72259');\n",
              "          const dataTable =\n",
              "            await google.colab.kernel.invokeFunction('convertToInteractive',\n",
              "                                                     [key], {});\n",
              "          if (!dataTable) return;\n",
              "\n",
              "          const docLinkHtml = 'Like what you see? Visit the ' +\n",
              "            '<a target=\"_blank\" href=https://colab.research.google.com/notebooks/data_table.ipynb>data table notebook</a>'\n",
              "            + ' to learn more about interactive tables.';\n",
              "          element.innerHTML = '';\n",
              "          dataTable['output_type'] = 'display_data';\n",
              "          await google.colab.output.renderOutput(dataTable, element);\n",
              "          const docLink = document.createElement('div');\n",
              "          docLink.innerHTML = docLinkHtml;\n",
              "          element.appendChild(docLink);\n",
              "        }\n",
              "      </script>\n",
              "    </div>\n",
              "  </div>\n",
              "  "
            ]
          },
          "metadata": {}
        },
        {
          "output_type": "display_data",
          "data": {
            "text/plain": [
              "<Figure size 432x288 with 2 Axes>"
            ],
            "image/png": "[encoded data removed]"
          },
          "metadata": {
            "needs_background": "light"
          }
        }
      ]
    },
    {
      "cell_type": "markdown",
      "metadata": {
        "id": "7x4aw1j5wNmn"
      },
      "source": [
        "### **Q6. Qual a média dos preços de aluguel em Porto?**\n",
        "\n",
        "Verificamos que a média de preços encontrados foi de 77.92"
      ]
    },
    {
      "cell_type": "code",
      "metadata": {
        "id": "ff-8gUahLk-C",
        "colab": {
          "base_uri": "https://localhost:8080/"
        },
        "outputId": "508ef07e-8402-4eb2-f305-bb65ec341e49"
      },
      "source": [
        "# Calculando a média da coluna price\n",
        "\n",
        "df2.price.mean()\n"
      ],
      "execution_count": null,
      "outputs": [
        {
          "output_type": "execute_result",
          "data": {
            "text/plain": [
              "77.92309117865085"
            ]
          },
          "metadata": {},
          "execution_count": 60
        }
      ]
    },
    {
      "cell_type": "markdown",
      "metadata": {
        "id": "7b6RMWpuHKN-"
      },
      "source": [
        "### **Q7. Qual o tipo de imóvel mais alugado no Airbnb em Porto?**\n",
        "\n",
        "Na coluna com a variável room_type nos mostra o tipo de locação que está anunciada, ou seja, existe opções de apartamentos/casas inteiras, aluguel de um quarto apenas ou dividir o quarto com outras pessoas.\n",
        "\n",
        "Vamos fazer a contagem da quantidade de ocorrências de cada tipo especificado de aluguel, usando o método `value_counts()`\n",
        "\n",
        "\n"
      ]
    },
    {
      "cell_type": "code",
      "metadata": {
        "id": "ueLPNWvPHgfB",
        "colab": {
          "base_uri": "https://localhost:8080/"
        },
        "outputId": "be9ad47f-7d94-45b5-c93b-0a5fee8b307a"
      },
      "source": [
        "# Quantificando cada tipo de imóvel disponível\n",
        "\n",
        "df2.room_type.value_counts()"
      ],
      "execution_count": null,
      "outputs": [
        {
          "output_type": "execute_result",
          "data": {
            "text/plain": [
              "Entire home/apt    8613\n",
              "Private room       1943\n",
              "Hotel room          145\n",
              "Shared room          91\n",
              "Name: room_type, dtype: int64"
            ]
          },
          "metadata": {},
          "execution_count": 65
        }
      ]
    },
    {
      "cell_type": "code",
      "metadata": {
        "id": "EvwoO-XAHhIm",
        "colab": {
          "base_uri": "https://localhost:8080/"
        },
        "outputId": "7faed3be-17c9-4e6f-dd8f-e27e93b7a928"
      },
      "source": [
        "# Mostrando a porcentagem de cada tipo de imóvel disponível\n",
        "\n",
        "df2.room_type.value_counts() / df2.shape[0] * 100"
      ],
      "execution_count": null,
      "outputs": [
        {
          "output_type": "execute_result",
          "data": {
            "text/plain": [
              "Entire home/apt    79.809118\n",
              "Private room       18.004077\n",
              "Hotel room          1.343588\n",
              "Shared room         0.843217\n",
              "Name: room_type, dtype: float64"
            ]
          },
          "metadata": {},
          "execution_count": 67
        }
      ]
    },
    {
      "cell_type": "markdown",
      "metadata": {
        "id": "MFa5NbnLJMcd"
      },
      "source": [
        "### **Q8. Qual a localidade mais cara da cidade do Porto?**\n",
        "Iremos usar o método `groupby()` que consiste em verificar uma variável em função de outra. Iremos aplicar esse método para comparar os bairros (neighbourhoods) com relação ao preço de locação.\n"
      ]
    },
    {
      "cell_type": "code",
      "metadata": {
        "id": "MD_xa143JZpi",
        "colab": {
          "base_uri": "https://localhost:8080/"
        },
        "outputId": "2fcc8605-6cd0-4e68-f1c3-8ced7f572da1"
      },
      "source": [
        "# Estratificando os preços por bairros, na média\n",
        "\n",
        "df2.groupby(['neighbourhood']).price.mean().sort_values(ascending=False)[:10]"
      ],
      "execution_count": null,
      "outputs": [
        {
          "output_type": "execute_result",
          "data": {
            "text/plain": [
              "neighbourhood\n",
              "Negrelos (São Tomé)                          600.000000\n",
              "Paços de Brandão                             400.000000\n",
              "Cristelo                                     300.000000\n",
              "Recarei                                      250.000000\n",
              "São Miguel do Mato                           229.666667\n",
              "Touguinha e Touguinhó                        226.333333\n",
              "Melres e Medas                               218.066667\n",
              "Bagunte, Ferreiró, Outeiro Maior e Parada    212.000000\n",
              "Alvarenga                                    205.916667\n",
              "Louredo                                      205.714286\n",
              "Name: price, dtype: float64"
            ]
          },
          "metadata": {},
          "execution_count": 84
        }
      ]
    },
    {
      "cell_type": "markdown",
      "source": [
        "Conseguimos verificar que os 4 primeiros bairros que são: `Negrelos (São Tomé)`, `Paços`, `Cristelo` e `Recarei  de Brandão`, tem a disponibilidade de apenas um imóvel para cada bairro e eles tem o preço bem maior do que a média."
      ],
      "metadata": {
        "id": "ED-RgtDkKhdR"
      }
    },
    {
      "cell_type": "code",
      "source": [
        "print(df2[df2.neighbourhood == \"Negrelos (São Tomé)\"].shape)\n",
        "print(df2[df2.neighbourhood == \"Paços de Brandão\"].shape)\n",
        "print(df2[df2.neighbourhood == \"Cristelo\"].shape)\n",
        "print(df2[df2.neighbourhood == \"Recarei\"].shape)\n",
        "print(df2[df2.neighbourhood == \"São Miguel do Mato\"].shape)"
      ],
      "metadata": {
        "id": "bQmOlgGaK7Lp",
        "colab": {
          "base_uri": "https://localhost:8080/"
        },
        "outputId": "681d514b-f9ba-4892-e1a1-3946f01b49fe"
      },
      "execution_count": null,
      "outputs": [
        {
          "output_type": "stream",
          "name": "stdout",
          "text": [
            "(1, 18)\n",
            "(1, 18)\n",
            "(1, 18)\n",
            "(1, 18)\n",
            "(3, 18)\n"
          ]
        }
      ]
    },
    {
      "cell_type": "markdown",
      "source": [
        "Dentro do dataset do Airbnb são disponibilizados as Latitudes e Longitudes para os imóveis, e utilizando o gráfico de dispersão podemos plotar cada ponto, e iremos atribuir `x=longitude`  e `y=latitude`."
      ],
      "metadata": {
        "id": "q2iggLJiRy2H"
      }
    },
    {
      "cell_type": "code",
      "metadata": {
        "id": "UxVJqJ_3W59I",
        "colab": {
          "base_uri": "https://localhost:8080/",
          "height": 473
        },
        "outputId": "46f53ca7-a5e8-41a2-df77-43c49b14ca92"
      },
      "source": [
        "# Plotando os imóveis pela latitude-longitude\n",
        "df2.plot(kind='scatter', x='longitude', y='latitude', alpha=0.5, c=df2['price'], s=20, cmap=plt.get_cmap('jet_r'), figsize=(13,8));"
      ],
      "execution_count": null,
      "outputs": [
        {
          "output_type": "display_data",
          "data": {
            "text/plain": [
              "<Figure size 936x576 with 2 Axes>"
            ],
            "image/png": "[encoded data removed]"
          },
          "metadata": {
            "needs_background": "light"
          }
        }
      ]
    },
    {
      "cell_type": "markdown",
      "metadata": {
        "id": "vTneAMRUYvr1"
      },
      "source": [
        "### **Q9. Qual é a média do mínimo de noites para aluguel (minimum_nights)?**\n",
        "\n",
        "Foi observado que para os alugueis no Porto a média do número de noites que o hospede precisa alugar é de 2 noites."
      ]
    },
    {
      "cell_type": "code",
      "metadata": {
        "id": "_VzNhrEgY82N",
        "colab": {
          "base_uri": "https://localhost:8080/"
        },
        "outputId": "88fd2057-0cc2-4d1a-da93-38be3fb14d3f"
      },
      "source": [
        "# Calculando a média da coluna minimum_nights\n",
        "\n",
        "df2.minimum_nights.mean()"
      ],
      "execution_count": null,
      "outputs": [
        {
          "output_type": "execute_result",
          "data": {
            "text/plain": [
              "2.3549851742031134"
            ]
          },
          "metadata": {},
          "execution_count": 119
        }
      ]
    },
    {
      "cell_type": "markdown",
      "metadata": {
        "id": "GkvAg623RjoR"
      },
      "source": [
        "## Conclusões\n"
      ]
    },
    {
      "cell_type": "markdown",
      "metadata": {
        "id": "rbZ3Hsy9Ypw8"
      },
      "source": [
        "Verificamos que em algumas variáveis existem outliers, o que acabou demandando uma limpeza nesses dados para ser feita a análise exploratória. Foi feita uma análise superficial nessa base de dados do Airbnb.\n",
        "\n",
        "Foi notado também que os 4 primeiros bairros só tinham disponíveis um único imóvel para aluguel e valor cobrado por eles eram bem maior do que média da cidade o que levou a distorção em alguns tributos e informações estatísticas.\n",
        "\n",
        "Concluindo, é de grande importância lembrar que esse dataset é uma versão resumida, ideal para uma explanação inicial. Em uma próxima analise exploratória, é recomendado que seja usado o conjunto completo de dados com mais de 100 atributos disponíveis.\n",
        "\n"
      ]
    }
  ]
}